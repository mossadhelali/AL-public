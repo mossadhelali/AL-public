{
 "cells": [
  {
   "cell_type": "markdown",
   "metadata": {},
   "source": [
    "## 1. Collection"
   ]
  },
  {
   "cell_type": "code",
   "execution_count": 25,
   "metadata": {},
   "outputs": [],
   "source": [
    "import sqlite3\n",
    "import pandas as pd\n",
    "pd.set_option('display.max_colwidth', 150)\n",
    "# collection / crawling\n",
    "from src.crawler.crawler import KaggleKernel\n",
    "from src.crawler.crawler import KaggleCrawler\n",
    "\n",
    "# static analysis\n",
    "from src.traces.traces import main as static_analysis\n"
   ]
  },
  {
   "cell_type": "code",
   "execution_count": 26,
   "metadata": {},
   "outputs": [
    {
     "name": "stdout",
     "output_type": "stream",
     "text": [
      "Downloading: https://www.kaggle.com/yuansun/lb-0-84-for-starters/code\n",
      "\n",
      "\n",
      "Done: https://www.kaggle.com/yuansun/lb-0-84-for-starters\n"
     ]
    }
   ],
   "source": [
    "db_conn = sqlite3.connect('src/crawler/crawled_kaggle.db')\n",
    "table= 'scripts'\n",
    "KAGGLE_NOTEBOOK_LINKS = [\n",
    "    'https://www.kaggle.com/yuansun/lb-0-84-for-starters'\n",
    "]\n",
    "for notebook_link in KAGGLE_NOTEBOOK_LINKS:\n",
    "    kernel = KaggleKernel(notebook_link)\n",
    "\n",
    "    browser = kernel.get_browser()\n",
    "\n",
    "    kernel.get(browser)\n",
    "\n",
    "    browser.close()\n",
    "\n",
    "    crawler = KaggleCrawler('Python', 'Hotness')\n",
    "    crawler._insert_into_db(db_conn, table, kernel)\n",
    "\n",
    "    print('Done:', notebook_link)\n",
    "\n",
    "db_conn.close()"
   ]
  },
  {
   "cell_type": "code",
   "execution_count": 27,
   "metadata": {},
   "outputs": [
    {
     "data": {
      "text/html": [
       "<div>\n",
       "<style scoped>\n",
       "    .dataframe tbody tr th:only-of-type {\n",
       "        vertical-align: middle;\n",
       "    }\n",
       "\n",
       "    .dataframe tbody tr th {\n",
       "        vertical-align: top;\n",
       "    }\n",
       "\n",
       "    .dataframe thead th {\n",
       "        text-align: right;\n",
       "    }\n",
       "</style>\n",
       "<table border=\"1\" class=\"dataframe\">\n",
       "  <thead>\n",
       "    <tr style=\"text-align: right;\">\n",
       "      <th></th>\n",
       "      <th>id</th>\n",
       "      <th>link</th>\n",
       "      <th>user</th>\n",
       "      <th>votes</th>\n",
       "      <th>language</th>\n",
       "      <th>code</th>\n",
       "    </tr>\n",
       "  </thead>\n",
       "  <tbody>\n",
       "    <tr>\n",
       "      <th>0</th>\n",
       "      <td>1</td>\n",
       "      <td>https://www.kaggle.com/yuansun/lb-0-84-for-starters</td>\n",
       "      <td>yuansun</td>\n",
       "      <td>41</td>\n",
       "      <td>Python</td>\n",
       "      <td># This Python 3 environment comes with many helpful analytics libraries installed\\n# It is defined by the kaggle/python docker image: https://gith...</td>\n",
       "    </tr>\n",
       "    <tr>\n",
       "      <th>1</th>\n",
       "      <td>2</td>\n",
       "      <td>https://www.kaggle.com/yuansun/lb-0-84-for-starters</td>\n",
       "      <td>yuansun</td>\n",
       "      <td>41</td>\n",
       "      <td>Python</td>\n",
       "      <td># This Python 3 environment comes with many helpful analytics libraries installed\\n# It is defined by the kaggle/python docker image: https://gith...</td>\n",
       "    </tr>\n",
       "  </tbody>\n",
       "</table>\n",
       "</div>"
      ],
      "text/plain": [
       "   id                                                 link     user  votes  \\\n",
       "0   1  https://www.kaggle.com/yuansun/lb-0-84-for-starters  yuansun     41   \n",
       "1   2  https://www.kaggle.com/yuansun/lb-0-84-for-starters  yuansun     41   \n",
       "\n",
       "  language  \\\n",
       "0   Python   \n",
       "1   Python   \n",
       "\n",
       "                                                                                                                                                    code  \n",
       "0  # This Python 3 environment comes with many helpful analytics libraries installed\\n# It is defined by the kaggle/python docker image: https://gith...  \n",
       "1  # This Python 3 environment comes with many helpful analytics libraries installed\\n# It is defined by the kaggle/python docker image: https://gith...  "
      ]
     },
     "metadata": {},
     "output_type": "display_data"
    }
   ],
   "source": [
    "db_conn = sqlite3.connect('src/crawler/crawled_kaggle.db')\n",
    "df = pd.read_sql_query(\"SELECT * FROM scripts\", db_conn)\n",
    "db_conn.close()\n",
    "display(df)"
   ]
  },
  {
   "cell_type": "markdown",
   "metadata": {},
   "source": [
    "__________"
   ]
  },
  {
   "cell_type": "markdown",
   "metadata": {},
   "source": [
    "## 2. Static Analysis"
   ]
  },
  {
   "cell_type": "code",
   "execution_count": 19,
   "metadata": {
    "scrolled": true
   },
   "outputs": [
    {
     "name": "stderr",
     "output_type": "stream",
     "text": [
      "\r",
      "  0%|          | 0/1 [00:00<?, ?it/s]"
     ]
    },
    {
     "name": "stdout",
     "output_type": "stream",
     "text": [
      "Collecting Python traces and saving to /Users/mossad/personal_projects/AL-public/src/traces/extracted-traces.pkl\n",
      "Querying db...\n",
      "CHANGE ME: using a fixed project ID: 70\n",
      "**************************************************\n"
     ]
    },
    {
     "name": "stderr",
     "output_type": "stream",
     "text": [
      "/Users/mossad/miniconda3/envs/al/lib/python3.6/site-packages/sklearn/cross_validation.py:44: DeprecationWarning: This module was deprecated in version 0.18 in favor of the model_selection module into which all the refactored classes and functions are moved. Also note that the interface of the new CV iterators are different from that of this module. This module will be removed in 0.20.\n",
      "  \"This module will be removed in 0.20.\", DeprecationWarning)\n",
      "\r",
      "100%|██████████| 1/1 [00:00<00:00,  1.05it/s]"
     ]
    },
    {
     "name": "stdout",
     "output_type": "stream",
     "text": [
      "Command '['ls', '../input']' returned non-zero exit status 1.\n",
      "Warn: looking up func failed check_output(['ls', '../input']).decode('utf8')\n",
      "Warn: not type <function _make_parser_function.<locals>.parser_f at 0x7ff0d742b1e0>\n",
      "Warn: not type <function _make_parser_function.<locals>.parser_f at 0x7ff0d742b1e0>\n",
      "name 'df_train' is not defined\n",
      "Warn: looking up func failed df_train[col].std()\n",
      "name 'df_train' is not defined\n",
      "Warn: looking up func failed df_train.drop(remove, axis=1, inplace=True)\n",
      "name 'df_test' is not defined\n",
      "Warn: looking up func failed df_test.drop(remove, axis=1, inplace=True)\n",
      "Warn: unknown assignment c = df_train.columns\n",
      "Warn: unknown assignment v = df_train[c[i]].values\n",
      "name 'df_train' is not defined\n",
      "Warn: looking up func failed df_train.drop(remove, axis=1, inplace=True)\n",
      "name 'df_test' is not defined\n",
      "Warn: looking up func failed df_test.drop(remove, axis=1, inplace=True)\n",
      "Warn: unknown assignment y_train = df_train['TARGET'].values\n",
      "name 'df_train' is not defined\n",
      "Warn: looking up func failed df_train.drop(['ID', 'TARGET'], axis=1)\n",
      "Warn: unknown assignment X_train = df_train.drop(['ID', 'TARGET'], axis=1).values\n",
      "Warn: unknown assignment id_test = df_test['ID']\n",
      "name 'df_test' is not defined\n",
      "Warn: looking up func failed df_test.drop(['ID'], axis=1)\n",
      "Warn: unknown assignment X_test = df_test.drop(['ID'], axis=1).values\n",
      "Warn: not type <built-in function len>\n",
      "Warn: not type <built-in function len>\n",
      "Warn: non-name assignment (X_fit, X_eval, y_fit, y_eval) = train_test_split(X_train, y_train, test_size=0.3)\n",
      "Warn: unknown assignment y_pred = clf.predict_proba(X_test)[:, 1]\n",
      "[Call(<_ast.Call object at 0x7ff0d7cd8e48>, ('check_output', 'subprocess', <Signature (*popenargs, timeout=None, **kwargs)>, 'check_output')),\n",
      " Call(<_ast.Call object at 0x7ff0d7cd8dd8>, err=func lookup failed),\n",
      " Call(<_ast.Call object at 0x7ff0d7cd8d68>, ('print', 'builtins', None, 'print')),\n",
      " Call(<_ast.Call object at 0x7ff0d7cd3048>, ('read_csv', 'pandas.io.parsers', <Signature (filepath_or_buffer, sep=',', delimiter=None, header='infer', names=None, index_col=None, usecols=None, squeeze=False, prefix=None, mangle_dupe_cols=True, dtype=None, engine=None, converters=None, true_values=None, false_values=None, skipinitialspace=False, skiprows=None, skipfooter=0, nrows=None, na_values=None, keep_default_na=True, na_filter=True, verbose=False, skip_blank_lines=True, parse_dates=False, infer_datetime_format=False, keep_date_col=False, date_parser=None, dayfirst=False, iterator=False, chunksize=None, compression='infer', thousands=None, decimal=b'.', lineterminator=None, quotechar='\"', quoting=0, doublequote=True, escapechar=None, comment=None, encoding=None, dialect=None, tupleize_cols=None, error_bad_lines=True, warn_bad_lines=True, delim_whitespace=False, low_memory=True, memory_map=False, float_precision=None)>, '_make_parser_function.<locals>.parser_f')),\n",
      " Call(<_ast.Call object at 0x7ff0d7cd3198>, ('read_csv', 'pandas.io.parsers', <Signature (filepath_or_buffer, sep=',', delimiter=None, header='infer', names=None, index_col=None, usecols=None, squeeze=False, prefix=None, mangle_dupe_cols=True, dtype=None, engine=None, converters=None, true_values=None, false_values=None, skipinitialspace=False, skiprows=None, skipfooter=0, nrows=None, na_values=None, keep_default_na=True, na_filter=True, verbose=False, skip_blank_lines=True, parse_dates=False, infer_datetime_format=False, keep_date_col=False, date_parser=None, dayfirst=False, iterator=False, chunksize=None, compression='infer', thousands=None, decimal=b'.', lineterminator=None, quotechar='\"', quoting=0, doublequote=True, escapechar=None, comment=None, encoding=None, dialect=None, tupleize_cols=None, error_bad_lines=True, warn_bad_lines=True, delim_whitespace=False, low_memory=True, memory_map=False, float_precision=None)>, '_make_parser_function.<locals>.parser_f')),\n",
      " Call(<_ast.Call object at 0x7ff0d7cd3470>, err=func lookup failed),\n",
      " Call(<_ast.Call object at 0x7ff0d7cd3630>, ('append', None, None, 'list.append')),\n",
      " Call(<_ast.Call object at 0x7ff0d7cd3748>, err=func lookup failed),\n",
      " Call(<_ast.Call object at 0x7ff0d7cd3940>, err=func lookup failed),\n",
      " Call(<_ast.Call object at 0x7ff0d7cd3da0>, ('len', 'builtins', <Signature (obj, /)>, 'len')),\n",
      " Call(<_ast.Call object at 0x7ff0d7cd3cf8>, ('range', 'builtins', None, 'range')),\n",
      " Call(<_ast.Call object at 0x7ff0d7cc2278>, ('len', 'builtins', <Signature (obj, /)>, 'len')),\n",
      " Call(<_ast.Call object at 0x7ff0d7cc2160>, ('range', 'builtins', None, 'range')),\n",
      " Call(<_ast.Call object at 0x7ff0d7cc2358>, ('array_equal', 'numpy.core.numeric', <Signature (a1, a2)>, 'array_equal')),\n",
      " Call(<_ast.Call object at 0x7ff0d7cc2630>, ('append', None, None, 'list.append')),\n",
      " Call(<_ast.Call object at 0x7ff0d7cc27f0>, err=func lookup failed),\n",
      " Call(<_ast.Call object at 0x7ff0d7cc29e8>, err=func lookup failed),\n",
      " Call(<_ast.Call object at 0x7ff0d7cc2dd8>, err=func lookup failed),\n",
      " Call(<_ast.Call object at 0x7ff0d7cb71d0>, err=func lookup failed),\n",
      " Call(<_ast.Call object at 0x7ff0d7cb73c8>, ('len', 'builtins', <Signature (obj, /)>, 'len')),\n",
      " Call(<_ast.Call object at 0x7ff0d7cb74e0>, ('len', 'builtins', <Signature (obj, /)>, 'len')),\n",
      " Call(<_ast.Call object at 0x7ff0d7cb75f8>, ('XGBClassifier', 'xgboost.sklearn', <Signature (max_depth=3, learning_rate=0.1, n_estimators=100, silent=True, objective='binary:logistic', booster='gbtree', n_jobs=1, nthread=None, gamma=0, min_child_weight=1, max_delta_step=0, subsample=1, colsample_bytree=1, colsample_bylevel=1, reg_alpha=0, reg_lambda=1, scale_pos_weight=1, base_score=0.5, random_state=0, seed=None, missing=None, **kwargs)>, 'XGBClassifier')),\n",
      " Call(<_ast.Call object at 0x7ff0d7cb7ba8>, ('train_test_split', 'sklearn.cross_validation', <Signature (*arrays, **options)>, 'train_test_split')),\n",
      " Call(<_ast.Call object at 0x7ff0d7cb7d30>, ('fit', 'xgboost.sklearn', <Signature (self, X, y, sample_weight=None, eval_set=None, eval_metric=None, early_stopping_rounds=None, verbose=True, xgb_model=None)>, 'XGBClassifier.fit')),\n",
      " Call(<_ast.Call object at 0x7ff0d7cb8240>, ('predict_proba', 'xgboost.sklearn', <Signature (self, data, output_margin=False, ntree_limit=0)>, 'XGBClassifier.predict_proba')),\n",
      " Call(<_ast.Call object at 0x7ff0d7cb8160>, ('roc_auc_score', 'sklearn.metrics.ranking', <Signature (y_true, y_score, average='macro', sample_weight=None)>, 'roc_auc_score')),\n",
      " Call(<_ast.Call object at 0x7ff0d7cb80b8>, ('print', 'builtins', None, 'print')),\n",
      " Call(<_ast.Call object at 0x7ff0d7cb84a8>, ('predict_proba', 'xgboost.sklearn', <Signature (self, data, output_margin=False, ntree_limit=0)>, 'XGBClassifier.predict_proba')),\n",
      " Call(<_ast.Call object at 0x7ff0d7cb86d8>, ('DataFrame', 'pandas.core.frame', <Signature (data=None, index=None, columns=None, dtype=None, copy=False)>, 'DataFrame')),\n",
      " Call(<_ast.Call object at 0x7ff0d7cb88d0>, ('to_csv', 'pandas.core.generic', <Signature (self, path_or_buf=None, sep=',', na_rep='', float_format=None, columns=None, header=True, index=True, index_label=None, mode='w', encoding=None, compression='infer', quoting=None, quotechar='\"', line_terminator=None, chunksize=None, tupleize_cols=None, date_format=None, doublequote=True, escapechar=None, decimal='.')>, 'NDFrame.to_csv')),\n",
      " Call(<_ast.Call object at 0x7ff0d7cb8a58>, ('print', 'builtins', None, 'print'))]\n",
      "Writing traces...\n"
     ]
    },
    {
     "name": "stderr",
     "output_type": "stream",
     "text": [
      "\n"
     ]
    }
   ],
   "source": [
    "db_path = '/Users/mossad/personal_projects/AL-public/src/crawler/crawled_kaggle.db'\n",
    "traces_path = '/Users/mossad/personal_projects/AL-public/src/traces/extracted-traces.pkl'\n",
    "language = 'Python'\n",
    "\n",
    "static_analysis(db_path, traces_path, language)"
   ]
  },
  {
   "cell_type": "code",
   "execution_count": 20,
   "metadata": {},
   "outputs": [],
   "source": [
    "traces = pd.read_pickle(traces_path)"
   ]
  },
  {
   "cell_type": "code",
   "execution_count": 28,
   "metadata": {},
   "outputs": [
    {
     "data": {
      "text/plain": [
       "Call(<_ast.Call object at 0x7ff0d94bd588>, ('train_test_split', 'sklearn.cross_validation', <Signature (*arrays, **options)>, 'train_test_split'))"
      ]
     },
     "metadata": {},
     "output_type": "display_data"
    }
   ],
   "source": [
    "display(traces[0][2][22])"
   ]
  },
  {
   "cell_type": "markdown",
   "metadata": {},
   "source": [
    "__________"
   ]
  },
  {
   "cell_type": "markdown",
   "metadata": {},
   "source": [
    "## 3. Dynamic Analysis"
   ]
  },
  {
   "cell_type": "code",
   "execution_count": 31,
   "metadata": {},
   "outputs": [],
   "source": [
    "analyzed = pd.read_pickle('/Users/mossad/personal_projects/AL-public/data/executed/project_70/scripts/analyzed.pkl')\n"
   ]
  },
  {
   "cell_type": "code",
   "execution_count": 34,
   "metadata": {},
   "outputs": [
    {
     "data": {
      "text/plain": [
       "{'static_instr_id': 15,\n",
       " 'static_loop_id': None,\n",
       " 'call_id': 76,\n",
       " 'caller_type_module': 'builtins',\n",
       " 'caller_type_name': 'NoneType',\n",
       " 'func_module': 'sklearn.cross_validation',\n",
       " 'func_name': 'train_test_split',\n",
       " 'dependencies': {-1, 2, 70, 71},\n",
       " 'args': [{'arg_type': \"<class 'numpy.ndarray'>\",\n",
       "   'count_column_type_f': 306,\n",
       "   'num_rows': 76020,\n",
       "   'colwise_avg_mean': 482577.42634224298,\n",
       "   'colwise_avg_geometric_mean': nan,\n",
       "   'colwise_avg_median': 348.03882352941179,\n",
       "   'colwise_avg_zscore_stats': -5.2795600384855086e-18,\n",
       "   'colwise_avg_iqr': 169.1753022875817,\n",
       "   'colwise_avg_std': 12359604.509482855,\n",
       "   'colwise_avg_max': 621290535.0109477,\n",
       "   'colwise_avg_min': -3332.1436928104577,\n",
       "   'colwise_avg_count_nonzero': 8281.4313725490192,\n",
       "   'colwise_avg_skew': 71.304560393920099,\n",
       "   'colwise_avg_kurtosis': 13176.438963870571,\n",
       "   'colwise_avg_missing': 0.0,\n",
       "   'matrixwise_numeric_distribution_num_rows_sampled': 100000,\n",
       "   'matrixwise_avg_dist_norm_pdf': 0.36210701700752235,\n",
       "   'matrixwise_avg_dist_norm_cdf': 0.55015344581875703,\n",
       "   'matrixwise_avg_dist_chi2_pdf': inf,\n",
       "   'matrixwise_avg_dist_chi2_cdf': 0.096370859378126408,\n",
       "   'matrixwise_avg_dist_expon_pdf': 0.90323071854673709,\n",
       "   'matrixwise_avg_dist_expon_cdf': 0.096629281453262883,\n",
       "   'matrixwise_avg_dist_gamma_pdf': 0.90323071854673709,\n",
       "   'matrixwise_avg_dist_gamma_cdf': 0.096629281453262883},\n",
       "  {'arg_type': \"<class 'numpy.ndarray'>\",\n",
       "   'count_column_type_i': 1,\n",
       "   'num_rows': 76020,\n",
       "   'colwise_avg_mean': 0.039568534596158902,\n",
       "   'colwise_avg_geometric_mean': 0.0,\n",
       "   'colwise_avg_median': 0.0,\n",
       "   'colwise_avg_zscore_stats': 5.8417417765070063e-17,\n",
       "   'colwise_avg_iqr': 0.0,\n",
       "   'colwise_avg_std': 0.19494323703599334,\n",
       "   'colwise_avg_max': 1.0,\n",
       "   'colwise_avg_min': 0.0,\n",
       "   'colwise_avg_count_nonzero': 3008.0,\n",
       "   'colwise_avg_skew': 4.7237490502820494,\n",
       "   'colwise_avg_kurtosis': 20.313805090040567,\n",
       "   'colwise_avg_missing': 0.0,\n",
       "   'matrixwise_avg_dist_norm_pdf': 0.3927311459618914,\n",
       "   'matrixwise_avg_dist_norm_cdf': 0.51350651139403025,\n",
       "   'matrixwise_avg_dist_chi2_pdf': inf,\n",
       "   'matrixwise_avg_dist_chi2_cdf': 0.027013022788060437,\n",
       "   'matrixwise_avg_dist_expon_pdf': 0.97498791579904875,\n",
       "   'matrixwise_avg_dist_expon_cdf': 0.025012084200951086,\n",
       "   'matrixwise_avg_dist_gamma_pdf': 0.97498791579904875,\n",
       "   'matrixwise_avg_dist_gamma_cdf': 0.025012084200951086}],\n",
       " 'src_code': 'train_test_split(X_train, y_train, test_size=0.3)'}"
      ]
     },
     "metadata": {},
     "output_type": "display_data"
    }
   ],
   "source": [
    "display(analyzed[1])"
   ]
  },
  {
   "cell_type": "code",
   "execution_count": 35,
   "metadata": {},
   "outputs": [
    {
     "data": {
      "text/plain": [
       "{'static_instr_id': 14,\n",
       " 'static_loop_id': None,\n",
       " 'call_id': 75,\n",
       " 'caller_type_module': 'builtins',\n",
       " 'caller_type_name': 'module',\n",
       " 'func_module': 'xgboost.sklearn',\n",
       " 'func_name': 'XGBClassifier',\n",
       " 'dependencies': {-1},\n",
       " 'args': [],\n",
       " 'src_code': 'xgb.XGBClassifier(missing=np.nan, max_depth=5, n_estimators=350, learning_rate=0.03, nthread=4, subsample=0.95, colsample_bytree=0.85, seed=4242)'}"
      ]
     },
     "metadata": {},
     "output_type": "display_data"
    }
   ],
   "source": [
    "display(analyzed[0])"
   ]
  },
  {
   "cell_type": "code",
   "execution_count": 45,
   "metadata": {},
   "outputs": [
    {
     "data": {
      "text/plain": [
       "{'static_instr_id': 17,\n",
       " 'static_loop_id': None,\n",
       " 'call_id': 78,\n",
       " 'caller_type_module': 'xgboost.sklearn',\n",
       " 'caller_type_name': 'XGBClassifier',\n",
       " 'func_module': 'xgboost.sklearn',\n",
       " 'func_name': 'XGBClassifier.predict_proba',\n",
       " 'dependencies': {71, 77},\n",
       " 'args': [{'arg_type': \"<class 'numpy.ndarray'>\",\n",
       "   'count_column_type_f': 306,\n",
       "   'num_rows': 76020,\n",
       "   'colwise_avg_mean': 482577.42634224298,\n",
       "   'colwise_avg_geometric_mean': nan,\n",
       "   'colwise_avg_median': 348.03882352941179,\n",
       "   'colwise_avg_zscore_stats': -5.2795600384855086e-18,\n",
       "   'colwise_avg_iqr': 169.1753022875817,\n",
       "   'colwise_avg_std': 12359604.509482855,\n",
       "   'colwise_avg_max': 621290535.0109477,\n",
       "   'colwise_avg_min': -3332.1436928104577,\n",
       "   'colwise_avg_count_nonzero': 8281.4313725490192,\n",
       "   'colwise_avg_skew': 71.304560393920099,\n",
       "   'colwise_avg_kurtosis': 13176.438963870571,\n",
       "   'colwise_avg_missing': 0.0,\n",
       "   'matrixwise_numeric_distribution_num_rows_sampled': 100000,\n",
       "   'matrixwise_avg_dist_norm_pdf': 0.36210701700752235,\n",
       "   'matrixwise_avg_dist_norm_cdf': 0.55015344581875703,\n",
       "   'matrixwise_avg_dist_chi2_pdf': inf,\n",
       "   'matrixwise_avg_dist_chi2_cdf': 0.096370859378126408,\n",
       "   'matrixwise_avg_dist_expon_pdf': 0.90323071854673709,\n",
       "   'matrixwise_avg_dist_expon_cdf': 0.096629281453262883,\n",
       "   'matrixwise_avg_dist_gamma_pdf': 0.90323071854673709,\n",
       "   'matrixwise_avg_dist_gamma_cdf': 0.096629281453262883}],\n",
       " 'src_code': 'clf.predict_proba(X_train)'}"
      ]
     },
     "metadata": {},
     "output_type": "display_data"
    }
   ],
   "source": [
    "display(analyzed[3])"
   ]
  },
  {
   "cell_type": "code",
   "execution_count": 42,
   "metadata": {},
   "outputs": [
    {
     "data": {
      "text/plain": [
       "{'static_instr_id': 20,\n",
       " 'static_loop_id': None,\n",
       " 'call_id': 81,\n",
       " 'caller_type_module': 'xgboost.sklearn',\n",
       " 'caller_type_name': 'XGBClassifier',\n",
       " 'func_module': 'xgboost.sklearn',\n",
       " 'func_name': 'XGBClassifier.predict_proba',\n",
       " 'dependencies': {72, 77},\n",
       " 'args': [{'arg_type': \"<class 'numpy.ndarray'>\",\n",
       "   'count_column_type_f': 306,\n",
       "   'num_rows': 75818,\n",
       "   'colwise_avg_mean': 486886.50559756509,\n",
       "   'colwise_avg_geometric_mean': nan,\n",
       "   'colwise_avg_median': 345.92795751633986,\n",
       "   'colwise_avg_zscore_stats': 3.5394693046253169e-18,\n",
       "   'colwise_avg_iqr': 168.77683823529409,\n",
       "   'colwise_avg_std': 12373947.678092254,\n",
       "   'colwise_avg_max': 555854008.98983657,\n",
       "   'colwise_avg_min': -3338.9331699346403,\n",
       "   'colwise_avg_count_nonzero': 8519.0033670033663,\n",
       "   'colwise_avg_skew': 59.424726563154017,\n",
       "   'colwise_avg_kurtosis': 9846.1483944722622,\n",
       "   'colwise_avg_missing': 0.0,\n",
       "   'matrixwise_numeric_distribution_num_rows_sampled': 100000,\n",
       "   'matrixwise_avg_dist_norm_pdf': 0.36199158529595016,\n",
       "   'matrixwise_avg_dist_norm_cdf': 0.55024344475357556,\n",
       "   'matrixwise_avg_dist_chi2_pdf': inf,\n",
       "   'matrixwise_avg_dist_chi2_cdf': 0.096487917665990394,\n",
       "   'matrixwise_avg_dist_expon_pdf': 0.90307701065695978,\n",
       "   'matrixwise_avg_dist_expon_cdf': 0.09679298934304012,\n",
       "   'matrixwise_avg_dist_gamma_pdf': 0.90307701065695978,\n",
       "   'matrixwise_avg_dist_gamma_cdf': 0.09679298934304012}],\n",
       " 'src_code': 'clf.predict_proba(X_test)'}"
      ]
     },
     "metadata": {},
     "output_type": "display_data"
    }
   ],
   "source": [
    "display(analyzed[5])"
   ]
  }
 ],
 "metadata": {
  "kernelspec": {
   "display_name": "Python 3",
   "language": "python",
   "name": "python3"
  },
  "language_info": {
   "codemirror_mode": {
    "name": "ipython",
    "version": 3
   },
   "file_extension": ".py",
   "mimetype": "text/x-python",
   "name": "python",
   "nbconvert_exporter": "python",
   "pygments_lexer": "ipython3",
   "version": "3.6.12"
  }
 },
 "nbformat": 4,
 "nbformat_minor": 4
}
